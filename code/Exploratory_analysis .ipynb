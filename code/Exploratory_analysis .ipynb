{
 "cells": [
  {
   "cell_type": "code",
   "execution_count": 1,
   "id": "massive-elite",
   "metadata": {},
   "outputs": [],
   "source": [
    "# importing libraries\n",
    "import pandas as pd\n",
    "import numpy as np\n",
    "import seaborn as sns #visualisation\n",
    "import matplotlib.pyplot as plt #visualisation\n",
    "%matplotlib inline \n",
    "sns.set(color_codes=True)\n",
    "from pandasql import sqldf"
   ]
  },
  {
   "cell_type": "code",
   "execution_count": 2,
   "id": "personal-congo",
   "metadata": {},
   "outputs": [],
   "source": [
    "#  loading the dataset\n",
    "df = pd.read_csv('../asset/hotel_bookings.csv')"
   ]
  },
  {
   "cell_type": "markdown",
   "id": "differential-latino",
   "metadata": {},
   "source": [
    "# Understanding the dataset"
   ]
  },
  {
   "cell_type": "markdown",
   "id": "inside-equity",
   "metadata": {},
   "source": [
    "First 5 rows"
   ]
  },
  {
   "cell_type": "code",
   "execution_count": 3,
   "id": "aggressive-implement",
   "metadata": {},
   "outputs": [
    {
     "data": {
      "text/html": [
       "<div>\n",
       "<style scoped>\n",
       "    .dataframe tbody tr th:only-of-type {\n",
       "        vertical-align: middle;\n",
       "    }\n",
       "\n",
       "    .dataframe tbody tr th {\n",
       "        vertical-align: top;\n",
       "    }\n",
       "\n",
       "    .dataframe thead th {\n",
       "        text-align: right;\n",
       "    }\n",
       "</style>\n",
       "<table border=\"1\" class=\"dataframe\">\n",
       "  <thead>\n",
       "    <tr style=\"text-align: right;\">\n",
       "      <th></th>\n",
       "      <th>hotel</th>\n",
       "      <th>is_canceled</th>\n",
       "      <th>lead_time</th>\n",
       "      <th>arrival_date_year</th>\n",
       "      <th>arrival_date_month</th>\n",
       "      <th>arrival_date_week_number</th>\n",
       "      <th>arrival_date_day_of_month</th>\n",
       "      <th>stays_in_weekend_nights</th>\n",
       "      <th>stays_in_week_nights</th>\n",
       "      <th>adults</th>\n",
       "      <th>...</th>\n",
       "      <th>deposit_type</th>\n",
       "      <th>agent</th>\n",
       "      <th>company</th>\n",
       "      <th>days_in_waiting_list</th>\n",
       "      <th>customer_type</th>\n",
       "      <th>adr</th>\n",
       "      <th>required_car_parking_spaces</th>\n",
       "      <th>total_of_special_requests</th>\n",
       "      <th>reservation_status</th>\n",
       "      <th>reservation_status_date</th>\n",
       "    </tr>\n",
       "  </thead>\n",
       "  <tbody>\n",
       "    <tr>\n",
       "      <th>0</th>\n",
       "      <td>Resort Hotel</td>\n",
       "      <td>0</td>\n",
       "      <td>342</td>\n",
       "      <td>2015</td>\n",
       "      <td>July</td>\n",
       "      <td>27</td>\n",
       "      <td>1</td>\n",
       "      <td>0</td>\n",
       "      <td>0</td>\n",
       "      <td>2</td>\n",
       "      <td>...</td>\n",
       "      <td>No Deposit</td>\n",
       "      <td>NaN</td>\n",
       "      <td>NaN</td>\n",
       "      <td>0</td>\n",
       "      <td>Transient</td>\n",
       "      <td>0.0</td>\n",
       "      <td>0</td>\n",
       "      <td>0</td>\n",
       "      <td>Check-Out</td>\n",
       "      <td>2015-07-01</td>\n",
       "    </tr>\n",
       "    <tr>\n",
       "      <th>1</th>\n",
       "      <td>Resort Hotel</td>\n",
       "      <td>0</td>\n",
       "      <td>737</td>\n",
       "      <td>2015</td>\n",
       "      <td>July</td>\n",
       "      <td>27</td>\n",
       "      <td>1</td>\n",
       "      <td>0</td>\n",
       "      <td>0</td>\n",
       "      <td>2</td>\n",
       "      <td>...</td>\n",
       "      <td>No Deposit</td>\n",
       "      <td>NaN</td>\n",
       "      <td>NaN</td>\n",
       "      <td>0</td>\n",
       "      <td>Transient</td>\n",
       "      <td>0.0</td>\n",
       "      <td>0</td>\n",
       "      <td>0</td>\n",
       "      <td>Check-Out</td>\n",
       "      <td>2015-07-01</td>\n",
       "    </tr>\n",
       "    <tr>\n",
       "      <th>2</th>\n",
       "      <td>Resort Hotel</td>\n",
       "      <td>0</td>\n",
       "      <td>7</td>\n",
       "      <td>2015</td>\n",
       "      <td>July</td>\n",
       "      <td>27</td>\n",
       "      <td>1</td>\n",
       "      <td>0</td>\n",
       "      <td>1</td>\n",
       "      <td>1</td>\n",
       "      <td>...</td>\n",
       "      <td>No Deposit</td>\n",
       "      <td>NaN</td>\n",
       "      <td>NaN</td>\n",
       "      <td>0</td>\n",
       "      <td>Transient</td>\n",
       "      <td>75.0</td>\n",
       "      <td>0</td>\n",
       "      <td>0</td>\n",
       "      <td>Check-Out</td>\n",
       "      <td>2015-07-02</td>\n",
       "    </tr>\n",
       "    <tr>\n",
       "      <th>3</th>\n",
       "      <td>Resort Hotel</td>\n",
       "      <td>0</td>\n",
       "      <td>13</td>\n",
       "      <td>2015</td>\n",
       "      <td>July</td>\n",
       "      <td>27</td>\n",
       "      <td>1</td>\n",
       "      <td>0</td>\n",
       "      <td>1</td>\n",
       "      <td>1</td>\n",
       "      <td>...</td>\n",
       "      <td>No Deposit</td>\n",
       "      <td>304.0</td>\n",
       "      <td>NaN</td>\n",
       "      <td>0</td>\n",
       "      <td>Transient</td>\n",
       "      <td>75.0</td>\n",
       "      <td>0</td>\n",
       "      <td>0</td>\n",
       "      <td>Check-Out</td>\n",
       "      <td>2015-07-02</td>\n",
       "    </tr>\n",
       "    <tr>\n",
       "      <th>4</th>\n",
       "      <td>Resort Hotel</td>\n",
       "      <td>0</td>\n",
       "      <td>14</td>\n",
       "      <td>2015</td>\n",
       "      <td>July</td>\n",
       "      <td>27</td>\n",
       "      <td>1</td>\n",
       "      <td>0</td>\n",
       "      <td>2</td>\n",
       "      <td>2</td>\n",
       "      <td>...</td>\n",
       "      <td>No Deposit</td>\n",
       "      <td>240.0</td>\n",
       "      <td>NaN</td>\n",
       "      <td>0</td>\n",
       "      <td>Transient</td>\n",
       "      <td>98.0</td>\n",
       "      <td>0</td>\n",
       "      <td>1</td>\n",
       "      <td>Check-Out</td>\n",
       "      <td>2015-07-03</td>\n",
       "    </tr>\n",
       "  </tbody>\n",
       "</table>\n",
       "<p>5 rows × 32 columns</p>\n",
       "</div>"
      ],
      "text/plain": [
       "          hotel  is_canceled  lead_time  arrival_date_year arrival_date_month  \\\n",
       "0  Resort Hotel            0        342               2015               July   \n",
       "1  Resort Hotel            0        737               2015               July   \n",
       "2  Resort Hotel            0          7               2015               July   \n",
       "3  Resort Hotel            0         13               2015               July   \n",
       "4  Resort Hotel            0         14               2015               July   \n",
       "\n",
       "   arrival_date_week_number  arrival_date_day_of_month  \\\n",
       "0                        27                          1   \n",
       "1                        27                          1   \n",
       "2                        27                          1   \n",
       "3                        27                          1   \n",
       "4                        27                          1   \n",
       "\n",
       "   stays_in_weekend_nights  stays_in_week_nights  adults  ...  deposit_type  \\\n",
       "0                        0                     0       2  ...    No Deposit   \n",
       "1                        0                     0       2  ...    No Deposit   \n",
       "2                        0                     1       1  ...    No Deposit   \n",
       "3                        0                     1       1  ...    No Deposit   \n",
       "4                        0                     2       2  ...    No Deposit   \n",
       "\n",
       "   agent company days_in_waiting_list customer_type   adr  \\\n",
       "0    NaN     NaN                    0     Transient   0.0   \n",
       "1    NaN     NaN                    0     Transient   0.0   \n",
       "2    NaN     NaN                    0     Transient  75.0   \n",
       "3  304.0     NaN                    0     Transient  75.0   \n",
       "4  240.0     NaN                    0     Transient  98.0   \n",
       "\n",
       "   required_car_parking_spaces  total_of_special_requests  reservation_status  \\\n",
       "0                            0                          0           Check-Out   \n",
       "1                            0                          0           Check-Out   \n",
       "2                            0                          0           Check-Out   \n",
       "3                            0                          0           Check-Out   \n",
       "4                            0                          1           Check-Out   \n",
       "\n",
       "  reservation_status_date  \n",
       "0              2015-07-01  \n",
       "1              2015-07-01  \n",
       "2              2015-07-02  \n",
       "3              2015-07-02  \n",
       "4              2015-07-03  \n",
       "\n",
       "[5 rows x 32 columns]"
      ]
     },
     "execution_count": 3,
     "metadata": {},
     "output_type": "execute_result"
    }
   ],
   "source": [
    "\n",
    "df.head()"
   ]
  },
  {
   "cell_type": "markdown",
   "id": "automated-carol",
   "metadata": {},
   "source": [
    "Last 5 rows"
   ]
  },
  {
   "cell_type": "code",
   "execution_count": 4,
   "id": "close-liability",
   "metadata": {},
   "outputs": [
    {
     "data": {
      "text/html": [
       "<div>\n",
       "<style scoped>\n",
       "    .dataframe tbody tr th:only-of-type {\n",
       "        vertical-align: middle;\n",
       "    }\n",
       "\n",
       "    .dataframe tbody tr th {\n",
       "        vertical-align: top;\n",
       "    }\n",
       "\n",
       "    .dataframe thead th {\n",
       "        text-align: right;\n",
       "    }\n",
       "</style>\n",
       "<table border=\"1\" class=\"dataframe\">\n",
       "  <thead>\n",
       "    <tr style=\"text-align: right;\">\n",
       "      <th></th>\n",
       "      <th>hotel</th>\n",
       "      <th>is_canceled</th>\n",
       "      <th>lead_time</th>\n",
       "      <th>arrival_date_year</th>\n",
       "      <th>arrival_date_month</th>\n",
       "      <th>arrival_date_week_number</th>\n",
       "      <th>arrival_date_day_of_month</th>\n",
       "      <th>stays_in_weekend_nights</th>\n",
       "      <th>stays_in_week_nights</th>\n",
       "      <th>adults</th>\n",
       "      <th>...</th>\n",
       "      <th>deposit_type</th>\n",
       "      <th>agent</th>\n",
       "      <th>company</th>\n",
       "      <th>days_in_waiting_list</th>\n",
       "      <th>customer_type</th>\n",
       "      <th>adr</th>\n",
       "      <th>required_car_parking_spaces</th>\n",
       "      <th>total_of_special_requests</th>\n",
       "      <th>reservation_status</th>\n",
       "      <th>reservation_status_date</th>\n",
       "    </tr>\n",
       "  </thead>\n",
       "  <tbody>\n",
       "    <tr>\n",
       "      <th>119385</th>\n",
       "      <td>City Hotel</td>\n",
       "      <td>0</td>\n",
       "      <td>23</td>\n",
       "      <td>2017</td>\n",
       "      <td>August</td>\n",
       "      <td>35</td>\n",
       "      <td>30</td>\n",
       "      <td>2</td>\n",
       "      <td>5</td>\n",
       "      <td>2</td>\n",
       "      <td>...</td>\n",
       "      <td>No Deposit</td>\n",
       "      <td>394.0</td>\n",
       "      <td>NaN</td>\n",
       "      <td>0</td>\n",
       "      <td>Transient</td>\n",
       "      <td>96.14</td>\n",
       "      <td>0</td>\n",
       "      <td>0</td>\n",
       "      <td>Check-Out</td>\n",
       "      <td>2017-09-06</td>\n",
       "    </tr>\n",
       "    <tr>\n",
       "      <th>119386</th>\n",
       "      <td>City Hotel</td>\n",
       "      <td>0</td>\n",
       "      <td>102</td>\n",
       "      <td>2017</td>\n",
       "      <td>August</td>\n",
       "      <td>35</td>\n",
       "      <td>31</td>\n",
       "      <td>2</td>\n",
       "      <td>5</td>\n",
       "      <td>3</td>\n",
       "      <td>...</td>\n",
       "      <td>No Deposit</td>\n",
       "      <td>9.0</td>\n",
       "      <td>NaN</td>\n",
       "      <td>0</td>\n",
       "      <td>Transient</td>\n",
       "      <td>225.43</td>\n",
       "      <td>0</td>\n",
       "      <td>2</td>\n",
       "      <td>Check-Out</td>\n",
       "      <td>2017-09-07</td>\n",
       "    </tr>\n",
       "    <tr>\n",
       "      <th>119387</th>\n",
       "      <td>City Hotel</td>\n",
       "      <td>0</td>\n",
       "      <td>34</td>\n",
       "      <td>2017</td>\n",
       "      <td>August</td>\n",
       "      <td>35</td>\n",
       "      <td>31</td>\n",
       "      <td>2</td>\n",
       "      <td>5</td>\n",
       "      <td>2</td>\n",
       "      <td>...</td>\n",
       "      <td>No Deposit</td>\n",
       "      <td>9.0</td>\n",
       "      <td>NaN</td>\n",
       "      <td>0</td>\n",
       "      <td>Transient</td>\n",
       "      <td>157.71</td>\n",
       "      <td>0</td>\n",
       "      <td>4</td>\n",
       "      <td>Check-Out</td>\n",
       "      <td>2017-09-07</td>\n",
       "    </tr>\n",
       "    <tr>\n",
       "      <th>119388</th>\n",
       "      <td>City Hotel</td>\n",
       "      <td>0</td>\n",
       "      <td>109</td>\n",
       "      <td>2017</td>\n",
       "      <td>August</td>\n",
       "      <td>35</td>\n",
       "      <td>31</td>\n",
       "      <td>2</td>\n",
       "      <td>5</td>\n",
       "      <td>2</td>\n",
       "      <td>...</td>\n",
       "      <td>No Deposit</td>\n",
       "      <td>89.0</td>\n",
       "      <td>NaN</td>\n",
       "      <td>0</td>\n",
       "      <td>Transient</td>\n",
       "      <td>104.40</td>\n",
       "      <td>0</td>\n",
       "      <td>0</td>\n",
       "      <td>Check-Out</td>\n",
       "      <td>2017-09-07</td>\n",
       "    </tr>\n",
       "    <tr>\n",
       "      <th>119389</th>\n",
       "      <td>City Hotel</td>\n",
       "      <td>0</td>\n",
       "      <td>205</td>\n",
       "      <td>2017</td>\n",
       "      <td>August</td>\n",
       "      <td>35</td>\n",
       "      <td>29</td>\n",
       "      <td>2</td>\n",
       "      <td>7</td>\n",
       "      <td>2</td>\n",
       "      <td>...</td>\n",
       "      <td>No Deposit</td>\n",
       "      <td>9.0</td>\n",
       "      <td>NaN</td>\n",
       "      <td>0</td>\n",
       "      <td>Transient</td>\n",
       "      <td>151.20</td>\n",
       "      <td>0</td>\n",
       "      <td>2</td>\n",
       "      <td>Check-Out</td>\n",
       "      <td>2017-09-07</td>\n",
       "    </tr>\n",
       "  </tbody>\n",
       "</table>\n",
       "<p>5 rows × 32 columns</p>\n",
       "</div>"
      ],
      "text/plain": [
       "             hotel  is_canceled  lead_time  arrival_date_year  \\\n",
       "119385  City Hotel            0         23               2017   \n",
       "119386  City Hotel            0        102               2017   \n",
       "119387  City Hotel            0         34               2017   \n",
       "119388  City Hotel            0        109               2017   \n",
       "119389  City Hotel            0        205               2017   \n",
       "\n",
       "       arrival_date_month  arrival_date_week_number  \\\n",
       "119385             August                        35   \n",
       "119386             August                        35   \n",
       "119387             August                        35   \n",
       "119388             August                        35   \n",
       "119389             August                        35   \n",
       "\n",
       "        arrival_date_day_of_month  stays_in_weekend_nights  \\\n",
       "119385                         30                        2   \n",
       "119386                         31                        2   \n",
       "119387                         31                        2   \n",
       "119388                         31                        2   \n",
       "119389                         29                        2   \n",
       "\n",
       "        stays_in_week_nights  adults  ...  deposit_type  agent company  \\\n",
       "119385                     5       2  ...    No Deposit  394.0     NaN   \n",
       "119386                     5       3  ...    No Deposit    9.0     NaN   \n",
       "119387                     5       2  ...    No Deposit    9.0     NaN   \n",
       "119388                     5       2  ...    No Deposit   89.0     NaN   \n",
       "119389                     7       2  ...    No Deposit    9.0     NaN   \n",
       "\n",
       "       days_in_waiting_list customer_type     adr  \\\n",
       "119385                    0     Transient   96.14   \n",
       "119386                    0     Transient  225.43   \n",
       "119387                    0     Transient  157.71   \n",
       "119388                    0     Transient  104.40   \n",
       "119389                    0     Transient  151.20   \n",
       "\n",
       "        required_car_parking_spaces  total_of_special_requests  \\\n",
       "119385                            0                          0   \n",
       "119386                            0                          2   \n",
       "119387                            0                          4   \n",
       "119388                            0                          0   \n",
       "119389                            0                          2   \n",
       "\n",
       "        reservation_status reservation_status_date  \n",
       "119385           Check-Out              2017-09-06  \n",
       "119386           Check-Out              2017-09-07  \n",
       "119387           Check-Out              2017-09-07  \n",
       "119388           Check-Out              2017-09-07  \n",
       "119389           Check-Out              2017-09-07  \n",
       "\n",
       "[5 rows x 32 columns]"
      ]
     },
     "execution_count": 4,
     "metadata": {},
     "output_type": "execute_result"
    }
   ],
   "source": [
    "df.tail()"
   ]
  },
  {
   "cell_type": "markdown",
   "id": "nonprofit-nightmare",
   "metadata": {},
   "source": [
    "Total number of rows and columns"
   ]
  },
  {
   "cell_type": "code",
   "execution_count": 5,
   "id": "intended-gateway",
   "metadata": {},
   "outputs": [
    {
     "name": "stdout",
     "output_type": "stream",
     "text": [
      "Total number of rows: 119390 \n",
      "Total number of columns: 32\n"
     ]
    }
   ],
   "source": [
    "print('Total number of rows:',df.shape[0],'\\nTotal number of columns:',df.shape[1])\n",
    "\n"
   ]
  },
  {
   "cell_type": "markdown",
   "id": "tribal-indonesian",
   "metadata": {},
   "source": [
    "Data type of each column"
   ]
  },
  {
   "cell_type": "code",
   "execution_count": 6,
   "id": "reverse-rings",
   "metadata": {},
   "outputs": [
    {
     "data": {
      "text/plain": [
       "hotel                              object\n",
       "is_canceled                         int64\n",
       "lead_time                           int64\n",
       "arrival_date_year                   int64\n",
       "arrival_date_month                 object\n",
       "arrival_date_week_number            int64\n",
       "arrival_date_day_of_month           int64\n",
       "stays_in_weekend_nights             int64\n",
       "stays_in_week_nights                int64\n",
       "adults                              int64\n",
       "children                          float64\n",
       "babies                              int64\n",
       "meal                               object\n",
       "country                            object\n",
       "market_segment                     object\n",
       "distribution_channel               object\n",
       "is_repeated_guest                   int64\n",
       "previous_cancellations              int64\n",
       "previous_bookings_not_canceled      int64\n",
       "reserved_room_type                 object\n",
       "assigned_room_type                 object\n",
       "booking_changes                     int64\n",
       "deposit_type                       object\n",
       "agent                             float64\n",
       "company                           float64\n",
       "days_in_waiting_list                int64\n",
       "customer_type                      object\n",
       "adr                               float64\n",
       "required_car_parking_spaces         int64\n",
       "total_of_special_requests           int64\n",
       "reservation_status                 object\n",
       "reservation_status_date            object\n",
       "dtype: object"
      ]
     },
     "execution_count": 6,
     "metadata": {},
     "output_type": "execute_result"
    }
   ],
   "source": [
    "df.dtypes"
   ]
  },
  {
   "cell_type": "markdown",
   "id": "brazilian-discretion",
   "metadata": {},
   "source": [
    "Other useful information about the dataset"
   ]
  },
  {
   "cell_type": "code",
   "execution_count": 7,
   "id": "interpreted-bible",
   "metadata": {},
   "outputs": [
    {
     "name": "stdout",
     "output_type": "stream",
     "text": [
      "<class 'pandas.core.frame.DataFrame'>\n",
      "RangeIndex: 119390 entries, 0 to 119389\n",
      "Data columns (total 32 columns):\n",
      " #   Column                          Non-Null Count   Dtype  \n",
      "---  ------                          --------------   -----  \n",
      " 0   hotel                           119390 non-null  object \n",
      " 1   is_canceled                     119390 non-null  int64  \n",
      " 2   lead_time                       119390 non-null  int64  \n",
      " 3   arrival_date_year               119390 non-null  int64  \n",
      " 4   arrival_date_month              119390 non-null  object \n",
      " 5   arrival_date_week_number        119390 non-null  int64  \n",
      " 6   arrival_date_day_of_month       119390 non-null  int64  \n",
      " 7   stays_in_weekend_nights         119390 non-null  int64  \n",
      " 8   stays_in_week_nights            119390 non-null  int64  \n",
      " 9   adults                          119390 non-null  int64  \n",
      " 10  children                        119386 non-null  float64\n",
      " 11  babies                          119390 non-null  int64  \n",
      " 12  meal                            119390 non-null  object \n",
      " 13  country                         118902 non-null  object \n",
      " 14  market_segment                  119390 non-null  object \n",
      " 15  distribution_channel            119390 non-null  object \n",
      " 16  is_repeated_guest               119390 non-null  int64  \n",
      " 17  previous_cancellations          119390 non-null  int64  \n",
      " 18  previous_bookings_not_canceled  119390 non-null  int64  \n",
      " 19  reserved_room_type              119390 non-null  object \n",
      " 20  assigned_room_type              119390 non-null  object \n",
      " 21  booking_changes                 119390 non-null  int64  \n",
      " 22  deposit_type                    119390 non-null  object \n",
      " 23  agent                           103050 non-null  float64\n",
      " 24  company                         6797 non-null    float64\n",
      " 25  days_in_waiting_list            119390 non-null  int64  \n",
      " 26  customer_type                   119390 non-null  object \n",
      " 27  adr                             119390 non-null  float64\n",
      " 28  required_car_parking_spaces     119390 non-null  int64  \n",
      " 29  total_of_special_requests       119390 non-null  int64  \n",
      " 30  reservation_status              119390 non-null  object \n",
      " 31  reservation_status_date         119390 non-null  object \n",
      "dtypes: float64(4), int64(16), object(12)\n",
      "memory usage: 29.1+ MB\n"
     ]
    }
   ],
   "source": [
    "df.info()"
   ]
  },
  {
   "cell_type": "markdown",
   "id": "local-laptop",
   "metadata": {},
   "source": [
    "# Data Cleaning"
   ]
  },
  {
   "cell_type": "markdown",
   "id": "institutional-inquiry",
   "metadata": {},
   "source": [
    "### Handling null values"
   ]
  },
  {
   "cell_type": "markdown",
   "id": "dedicated-application",
   "metadata": {},
   "source": [
    "Finding the null values"
   ]
  },
  {
   "cell_type": "code",
   "execution_count": 8,
   "id": "removable-facility",
   "metadata": {},
   "outputs": [
    {
     "name": "stdout",
     "output_type": "stream",
     "text": [
      "hotel                                  0\n",
      "is_canceled                            0\n",
      "lead_time                              0\n",
      "arrival_date_year                      0\n",
      "arrival_date_month                     0\n",
      "arrival_date_week_number               0\n",
      "arrival_date_day_of_month              0\n",
      "stays_in_weekend_nights                0\n",
      "stays_in_week_nights                   0\n",
      "adults                                 0\n",
      "children                               4\n",
      "babies                                 0\n",
      "meal                                   0\n",
      "country                              488\n",
      "market_segment                         0\n",
      "distribution_channel                   0\n",
      "is_repeated_guest                      0\n",
      "previous_cancellations                 0\n",
      "previous_bookings_not_canceled         0\n",
      "reserved_room_type                     0\n",
      "assigned_room_type                     0\n",
      "booking_changes                        0\n",
      "deposit_type                           0\n",
      "agent                              16340\n",
      "company                           112593\n",
      "days_in_waiting_list                   0\n",
      "customer_type                          0\n",
      "adr                                    0\n",
      "required_car_parking_spaces            0\n",
      "total_of_special_requests              0\n",
      "reservation_status                     0\n",
      "reservation_status_date                0\n",
      "dtype: int64\n"
     ]
    }
   ],
   "source": [
    "print(df.isnull().sum())"
   ]
  },
  {
   "cell_type": "markdown",
   "id": "lovely-strength",
   "metadata": {},
   "source": [
    "Replacing null values with appropriate values according to the respective column"
   ]
  },
  {
   "cell_type": "code",
   "execution_count": 9,
   "id": "settled-paradise",
   "metadata": {},
   "outputs": [],
   "source": [
    "# replacing null values in children with 0\n",
    "df[\"children\"].fillna(0, inplace = True)\n",
    "\n",
    "\n",
    "# replacing null values in country with No Country\n",
    "df[\"country\"].fillna(\"No Country\", inplace = True)\n",
    "\n",
    "\n",
    "# replacing null values in agent with 0\n",
    "df[\"agent\"].fillna(0, inplace = True)\n",
    "\n",
    "\n",
    "# replacing null values in company with No Country\n",
    "df[\"company\"].fillna(\"No Company\", inplace = True)"
   ]
  },
  {
   "cell_type": "code",
   "execution_count": 10,
   "id": "mediterranean-lawrence",
   "metadata": {},
   "outputs": [
    {
     "name": "stdout",
     "output_type": "stream",
     "text": [
      "hotel                             0\n",
      "is_canceled                       0\n",
      "lead_time                         0\n",
      "arrival_date_year                 0\n",
      "arrival_date_month                0\n",
      "arrival_date_week_number          0\n",
      "arrival_date_day_of_month         0\n",
      "stays_in_weekend_nights           0\n",
      "stays_in_week_nights              0\n",
      "adults                            0\n",
      "children                          0\n",
      "babies                            0\n",
      "meal                              0\n",
      "country                           0\n",
      "market_segment                    0\n",
      "distribution_channel              0\n",
      "is_repeated_guest                 0\n",
      "previous_cancellations            0\n",
      "previous_bookings_not_canceled    0\n",
      "reserved_room_type                0\n",
      "assigned_room_type                0\n",
      "booking_changes                   0\n",
      "deposit_type                      0\n",
      "agent                             0\n",
      "company                           0\n",
      "days_in_waiting_list              0\n",
      "customer_type                     0\n",
      "adr                               0\n",
      "required_car_parking_spaces       0\n",
      "total_of_special_requests         0\n",
      "reservation_status                0\n",
      "reservation_status_date           0\n",
      "dtype: int64\n"
     ]
    }
   ],
   "source": [
    "print(df.isnull().sum())"
   ]
  },
  {
   "cell_type": "code",
   "execution_count": 11,
   "id": "american-renaissance",
   "metadata": {},
   "outputs": [
    {
     "data": {
      "text/html": [
       "<div>\n",
       "<style scoped>\n",
       "    .dataframe tbody tr th:only-of-type {\n",
       "        vertical-align: middle;\n",
       "    }\n",
       "\n",
       "    .dataframe tbody tr th {\n",
       "        vertical-align: top;\n",
       "    }\n",
       "\n",
       "    .dataframe thead th {\n",
       "        text-align: right;\n",
       "    }\n",
       "</style>\n",
       "<table border=\"1\" class=\"dataframe\">\n",
       "  <thead>\n",
       "    <tr style=\"text-align: right;\">\n",
       "      <th></th>\n",
       "      <th>hotel</th>\n",
       "      <th>is_canceled</th>\n",
       "      <th>lead_time</th>\n",
       "      <th>arrival_date_year</th>\n",
       "      <th>arrival_date_month</th>\n",
       "      <th>arrival_date_week_number</th>\n",
       "      <th>arrival_date_day_of_month</th>\n",
       "      <th>stays_in_weekend_nights</th>\n",
       "      <th>stays_in_week_nights</th>\n",
       "      <th>adults</th>\n",
       "      <th>...</th>\n",
       "      <th>deposit_type</th>\n",
       "      <th>agent</th>\n",
       "      <th>company</th>\n",
       "      <th>days_in_waiting_list</th>\n",
       "      <th>customer_type</th>\n",
       "      <th>adr</th>\n",
       "      <th>required_car_parking_spaces</th>\n",
       "      <th>total_of_special_requests</th>\n",
       "      <th>reservation_status</th>\n",
       "      <th>reservation_status_date</th>\n",
       "    </tr>\n",
       "  </thead>\n",
       "  <tbody>\n",
       "    <tr>\n",
       "      <th>0</th>\n",
       "      <td>Resort Hotel</td>\n",
       "      <td>0</td>\n",
       "      <td>342</td>\n",
       "      <td>2015</td>\n",
       "      <td>July</td>\n",
       "      <td>27</td>\n",
       "      <td>1</td>\n",
       "      <td>0</td>\n",
       "      <td>0</td>\n",
       "      <td>2</td>\n",
       "      <td>...</td>\n",
       "      <td>No Deposit</td>\n",
       "      <td>0.0</td>\n",
       "      <td>No Company</td>\n",
       "      <td>0</td>\n",
       "      <td>Transient</td>\n",
       "      <td>0.0</td>\n",
       "      <td>0</td>\n",
       "      <td>0</td>\n",
       "      <td>Check-Out</td>\n",
       "      <td>2015-07-01</td>\n",
       "    </tr>\n",
       "    <tr>\n",
       "      <th>1</th>\n",
       "      <td>Resort Hotel</td>\n",
       "      <td>0</td>\n",
       "      <td>737</td>\n",
       "      <td>2015</td>\n",
       "      <td>July</td>\n",
       "      <td>27</td>\n",
       "      <td>1</td>\n",
       "      <td>0</td>\n",
       "      <td>0</td>\n",
       "      <td>2</td>\n",
       "      <td>...</td>\n",
       "      <td>No Deposit</td>\n",
       "      <td>0.0</td>\n",
       "      <td>No Company</td>\n",
       "      <td>0</td>\n",
       "      <td>Transient</td>\n",
       "      <td>0.0</td>\n",
       "      <td>0</td>\n",
       "      <td>0</td>\n",
       "      <td>Check-Out</td>\n",
       "      <td>2015-07-01</td>\n",
       "    </tr>\n",
       "    <tr>\n",
       "      <th>2</th>\n",
       "      <td>Resort Hotel</td>\n",
       "      <td>0</td>\n",
       "      <td>7</td>\n",
       "      <td>2015</td>\n",
       "      <td>July</td>\n",
       "      <td>27</td>\n",
       "      <td>1</td>\n",
       "      <td>0</td>\n",
       "      <td>1</td>\n",
       "      <td>1</td>\n",
       "      <td>...</td>\n",
       "      <td>No Deposit</td>\n",
       "      <td>0.0</td>\n",
       "      <td>No Company</td>\n",
       "      <td>0</td>\n",
       "      <td>Transient</td>\n",
       "      <td>75.0</td>\n",
       "      <td>0</td>\n",
       "      <td>0</td>\n",
       "      <td>Check-Out</td>\n",
       "      <td>2015-07-02</td>\n",
       "    </tr>\n",
       "    <tr>\n",
       "      <th>3</th>\n",
       "      <td>Resort Hotel</td>\n",
       "      <td>0</td>\n",
       "      <td>13</td>\n",
       "      <td>2015</td>\n",
       "      <td>July</td>\n",
       "      <td>27</td>\n",
       "      <td>1</td>\n",
       "      <td>0</td>\n",
       "      <td>1</td>\n",
       "      <td>1</td>\n",
       "      <td>...</td>\n",
       "      <td>No Deposit</td>\n",
       "      <td>304.0</td>\n",
       "      <td>No Company</td>\n",
       "      <td>0</td>\n",
       "      <td>Transient</td>\n",
       "      <td>75.0</td>\n",
       "      <td>0</td>\n",
       "      <td>0</td>\n",
       "      <td>Check-Out</td>\n",
       "      <td>2015-07-02</td>\n",
       "    </tr>\n",
       "    <tr>\n",
       "      <th>4</th>\n",
       "      <td>Resort Hotel</td>\n",
       "      <td>0</td>\n",
       "      <td>14</td>\n",
       "      <td>2015</td>\n",
       "      <td>July</td>\n",
       "      <td>27</td>\n",
       "      <td>1</td>\n",
       "      <td>0</td>\n",
       "      <td>2</td>\n",
       "      <td>2</td>\n",
       "      <td>...</td>\n",
       "      <td>No Deposit</td>\n",
       "      <td>240.0</td>\n",
       "      <td>No Company</td>\n",
       "      <td>0</td>\n",
       "      <td>Transient</td>\n",
       "      <td>98.0</td>\n",
       "      <td>0</td>\n",
       "      <td>1</td>\n",
       "      <td>Check-Out</td>\n",
       "      <td>2015-07-03</td>\n",
       "    </tr>\n",
       "  </tbody>\n",
       "</table>\n",
       "<p>5 rows × 32 columns</p>\n",
       "</div>"
      ],
      "text/plain": [
       "          hotel  is_canceled  lead_time  arrival_date_year arrival_date_month  \\\n",
       "0  Resort Hotel            0        342               2015               July   \n",
       "1  Resort Hotel            0        737               2015               July   \n",
       "2  Resort Hotel            0          7               2015               July   \n",
       "3  Resort Hotel            0         13               2015               July   \n",
       "4  Resort Hotel            0         14               2015               July   \n",
       "\n",
       "   arrival_date_week_number  arrival_date_day_of_month  \\\n",
       "0                        27                          1   \n",
       "1                        27                          1   \n",
       "2                        27                          1   \n",
       "3                        27                          1   \n",
       "4                        27                          1   \n",
       "\n",
       "   stays_in_weekend_nights  stays_in_week_nights  adults  ...  deposit_type  \\\n",
       "0                        0                     0       2  ...    No Deposit   \n",
       "1                        0                     0       2  ...    No Deposit   \n",
       "2                        0                     1       1  ...    No Deposit   \n",
       "3                        0                     1       1  ...    No Deposit   \n",
       "4                        0                     2       2  ...    No Deposit   \n",
       "\n",
       "   agent     company days_in_waiting_list customer_type   adr  \\\n",
       "0    0.0  No Company                    0     Transient   0.0   \n",
       "1    0.0  No Company                    0     Transient   0.0   \n",
       "2    0.0  No Company                    0     Transient  75.0   \n",
       "3  304.0  No Company                    0     Transient  75.0   \n",
       "4  240.0  No Company                    0     Transient  98.0   \n",
       "\n",
       "   required_car_parking_spaces  total_of_special_requests  reservation_status  \\\n",
       "0                            0                          0           Check-Out   \n",
       "1                            0                          0           Check-Out   \n",
       "2                            0                          0           Check-Out   \n",
       "3                            0                          0           Check-Out   \n",
       "4                            0                          1           Check-Out   \n",
       "\n",
       "  reservation_status_date  \n",
       "0              2015-07-01  \n",
       "1              2015-07-01  \n",
       "2              2015-07-02  \n",
       "3              2015-07-02  \n",
       "4              2015-07-03  \n",
       "\n",
       "[5 rows x 32 columns]"
      ]
     },
     "execution_count": 11,
     "metadata": {},
     "output_type": "execute_result"
    }
   ],
   "source": [
    "df.head()"
   ]
  },
  {
   "cell_type": "markdown",
   "id": "acceptable-hamburg",
   "metadata": {},
   "source": [
    "### Handling duplicates"
   ]
  },
  {
   "cell_type": "markdown",
   "id": "described-hawaii",
   "metadata": {},
   "source": [
    "Finding duplicates"
   ]
  },
  {
   "cell_type": "code",
   "execution_count": 12,
   "id": "stretch-offer",
   "metadata": {},
   "outputs": [
    {
     "name": "stdout",
     "output_type": "stream",
     "text": [
      "Number of duplicate rows: 31994\n"
     ]
    }
   ],
   "source": [
    "duplicate_rows_df = df[df.duplicated()]\n",
    "print('Number of duplicate rows:', duplicate_rows_df.shape[0])"
   ]
  },
  {
   "cell_type": "code",
   "execution_count": 13,
   "id": "inner-rogers",
   "metadata": {},
   "outputs": [
    {
     "data": {
      "text/plain": [
       "hotel                             119390\n",
       "is_canceled                       119390\n",
       "lead_time                         119390\n",
       "arrival_date_year                 119390\n",
       "arrival_date_month                119390\n",
       "arrival_date_week_number          119390\n",
       "arrival_date_day_of_month         119390\n",
       "stays_in_weekend_nights           119390\n",
       "stays_in_week_nights              119390\n",
       "adults                            119390\n",
       "children                          119390\n",
       "babies                            119390\n",
       "meal                              119390\n",
       "country                           119390\n",
       "market_segment                    119390\n",
       "distribution_channel              119390\n",
       "is_repeated_guest                 119390\n",
       "previous_cancellations            119390\n",
       "previous_bookings_not_canceled    119390\n",
       "reserved_room_type                119390\n",
       "assigned_room_type                119390\n",
       "booking_changes                   119390\n",
       "deposit_type                      119390\n",
       "agent                             119390\n",
       "company                           119390\n",
       "days_in_waiting_list              119390\n",
       "customer_type                     119390\n",
       "adr                               119390\n",
       "required_car_parking_spaces       119390\n",
       "total_of_special_requests         119390\n",
       "reservation_status                119390\n",
       "reservation_status_date           119390\n",
       "dtype: int64"
      ]
     },
     "execution_count": 13,
     "metadata": {},
     "output_type": "execute_result"
    }
   ],
   "source": [
    "# before removing duplicate rows\n",
    "df.count() "
   ]
  },
  {
   "cell_type": "code",
   "execution_count": 14,
   "id": "outside-prairie",
   "metadata": {},
   "outputs": [
    {
     "data": {
      "text/plain": [
       "hotel                             87396\n",
       "is_canceled                       87396\n",
       "lead_time                         87396\n",
       "arrival_date_year                 87396\n",
       "arrival_date_month                87396\n",
       "arrival_date_week_number          87396\n",
       "arrival_date_day_of_month         87396\n",
       "stays_in_weekend_nights           87396\n",
       "stays_in_week_nights              87396\n",
       "adults                            87396\n",
       "children                          87396\n",
       "babies                            87396\n",
       "meal                              87396\n",
       "country                           87396\n",
       "market_segment                    87396\n",
       "distribution_channel              87396\n",
       "is_repeated_guest                 87396\n",
       "previous_cancellations            87396\n",
       "previous_bookings_not_canceled    87396\n",
       "reserved_room_type                87396\n",
       "assigned_room_type                87396\n",
       "booking_changes                   87396\n",
       "deposit_type                      87396\n",
       "agent                             87396\n",
       "company                           87396\n",
       "days_in_waiting_list              87396\n",
       "customer_type                     87396\n",
       "adr                               87396\n",
       "required_car_parking_spaces       87396\n",
       "total_of_special_requests         87396\n",
       "reservation_status                87396\n",
       "reservation_status_date           87396\n",
       "dtype: int64"
      ]
     },
     "execution_count": 14,
     "metadata": {},
     "output_type": "execute_result"
    }
   ],
   "source": [
    "# removing duplicate rows\n",
    "df = df.drop_duplicates()\n",
    "\n",
    "# after removing duplicate rows\n",
    "df.count() "
   ]
  },
  {
   "cell_type": "markdown",
   "id": "british-vatican",
   "metadata": {},
   "source": [
    "#  Exploratory analysis "
   ]
  },
  {
   "cell_type": "code",
   "execution_count": 15,
   "id": "proud-finland",
   "metadata": {},
   "outputs": [],
   "source": [
    "pysqldf = lambda q: sqldf(q, globals())"
   ]
  },
  {
   "cell_type": "code",
   "execution_count": 16,
   "id": "atlantic-battlefield",
   "metadata": {},
   "outputs": [],
   "source": [
    "q = \"\"\"select hotel \n",
    "       from df \n",
    "       LIMIT 100;\"\"\""
   ]
  },
  {
   "cell_type": "code",
   "execution_count": 17,
   "id": "complete-entry",
   "metadata": {},
   "outputs": [
    {
     "data": {
      "text/html": [
       "<div>\n",
       "<style scoped>\n",
       "    .dataframe tbody tr th:only-of-type {\n",
       "        vertical-align: middle;\n",
       "    }\n",
       "\n",
       "    .dataframe tbody tr th {\n",
       "        vertical-align: top;\n",
       "    }\n",
       "\n",
       "    .dataframe thead th {\n",
       "        text-align: right;\n",
       "    }\n",
       "</style>\n",
       "<table border=\"1\" class=\"dataframe\">\n",
       "  <thead>\n",
       "    <tr style=\"text-align: right;\">\n",
       "      <th></th>\n",
       "      <th>hotel</th>\n",
       "    </tr>\n",
       "  </thead>\n",
       "  <tbody>\n",
       "    <tr>\n",
       "      <th>0</th>\n",
       "      <td>Resort Hotel</td>\n",
       "    </tr>\n",
       "    <tr>\n",
       "      <th>1</th>\n",
       "      <td>Resort Hotel</td>\n",
       "    </tr>\n",
       "    <tr>\n",
       "      <th>2</th>\n",
       "      <td>Resort Hotel</td>\n",
       "    </tr>\n",
       "    <tr>\n",
       "      <th>3</th>\n",
       "      <td>Resort Hotel</td>\n",
       "    </tr>\n",
       "    <tr>\n",
       "      <th>4</th>\n",
       "      <td>Resort Hotel</td>\n",
       "    </tr>\n",
       "    <tr>\n",
       "      <th>...</th>\n",
       "      <td>...</td>\n",
       "    </tr>\n",
       "    <tr>\n",
       "      <th>95</th>\n",
       "      <td>Resort Hotel</td>\n",
       "    </tr>\n",
       "    <tr>\n",
       "      <th>96</th>\n",
       "      <td>Resort Hotel</td>\n",
       "    </tr>\n",
       "    <tr>\n",
       "      <th>97</th>\n",
       "      <td>Resort Hotel</td>\n",
       "    </tr>\n",
       "    <tr>\n",
       "      <th>98</th>\n",
       "      <td>Resort Hotel</td>\n",
       "    </tr>\n",
       "    <tr>\n",
       "      <th>99</th>\n",
       "      <td>Resort Hotel</td>\n",
       "    </tr>\n",
       "  </tbody>\n",
       "</table>\n",
       "<p>100 rows × 1 columns</p>\n",
       "</div>"
      ],
      "text/plain": [
       "           hotel\n",
       "0   Resort Hotel\n",
       "1   Resort Hotel\n",
       "2   Resort Hotel\n",
       "3   Resort Hotel\n",
       "4   Resort Hotel\n",
       "..           ...\n",
       "95  Resort Hotel\n",
       "96  Resort Hotel\n",
       "97  Resort Hotel\n",
       "98  Resort Hotel\n",
       "99  Resort Hotel\n",
       "\n",
       "[100 rows x 1 columns]"
      ]
     },
     "execution_count": 17,
     "metadata": {},
     "output_type": "execute_result"
    }
   ],
   "source": [
    "hotel = pysqldf(q)\n",
    "hotel"
   ]
  },
  {
   "cell_type": "markdown",
   "id": "absent-textbook",
   "metadata": {},
   "source": [
    "### Hotel"
   ]
  },
  {
   "cell_type": "markdown",
   "id": "breathing-screw",
   "metadata": {},
   "source": [
    "Total Number of hotels in LimeHome's Program"
   ]
  },
  {
   "cell_type": "code",
   "execution_count": 18,
   "id": "coordinate-simon",
   "metadata": {},
   "outputs": [
    {
     "data": {
      "text/html": [
       "<div>\n",
       "<style scoped>\n",
       "    .dataframe tbody tr th:only-of-type {\n",
       "        vertical-align: middle;\n",
       "    }\n",
       "\n",
       "    .dataframe tbody tr th {\n",
       "        vertical-align: top;\n",
       "    }\n",
       "\n",
       "    .dataframe thead th {\n",
       "        text-align: right;\n",
       "    }\n",
       "</style>\n",
       "<table border=\"1\" class=\"dataframe\">\n",
       "  <thead>\n",
       "    <tr style=\"text-align: right;\">\n",
       "      <th></th>\n",
       "      <th>Number_of_hotels_in_LimeHomes_Program</th>\n",
       "    </tr>\n",
       "  </thead>\n",
       "  <tbody>\n",
       "    <tr>\n",
       "      <th>0</th>\n",
       "      <td>2</td>\n",
       "    </tr>\n",
       "  </tbody>\n",
       "</table>\n",
       "</div>"
      ],
      "text/plain": [
       "   Number_of_hotels_in_LimeHomes_Program\n",
       "0                                      2"
      ]
     },
     "execution_count": 18,
     "metadata": {},
     "output_type": "execute_result"
    }
   ],
   "source": [
    "q = \"\"\"SELECT COUNT(DISTINCT hotel) as Number_of_hotels_in_LimeHomes_Program\n",
    "        from df;\"\"\"\n",
    "\n",
    "\n",
    "hotel = pysqldf(q)\n",
    "hotel"
   ]
  },
  {
   "cell_type": "markdown",
   "id": "awful-spokesman",
   "metadata": {},
   "source": [
    "Most/least visited hotel"
   ]
  },
  {
   "cell_type": "code",
   "execution_count": 19,
   "id": "lightweight-acting",
   "metadata": {},
   "outputs": [
    {
     "data": {
      "text/html": [
       "<div>\n",
       "<style scoped>\n",
       "    .dataframe tbody tr th:only-of-type {\n",
       "        vertical-align: middle;\n",
       "    }\n",
       "\n",
       "    .dataframe tbody tr th {\n",
       "        vertical-align: top;\n",
       "    }\n",
       "\n",
       "    .dataframe thead th {\n",
       "        text-align: right;\n",
       "    }\n",
       "</style>\n",
       "<table border=\"1\" class=\"dataframe\">\n",
       "  <thead>\n",
       "    <tr style=\"text-align: right;\">\n",
       "      <th></th>\n",
       "      <th>Resort_Hotel_number_of_visits</th>\n",
       "      <th>City_Hotel_number_of_visits</th>\n",
       "    </tr>\n",
       "  </thead>\n",
       "  <tbody>\n",
       "    <tr>\n",
       "      <th>0</th>\n",
       "      <td>25992</td>\n",
       "      <td>37379</td>\n",
       "    </tr>\n",
       "  </tbody>\n",
       "</table>\n",
       "</div>"
      ],
      "text/plain": [
       "   Resort_Hotel_number_of_visits  City_Hotel_number_of_visits\n",
       "0                          25992                        37379"
      ]
     },
     "execution_count": 19,
     "metadata": {},
     "output_type": "execute_result"
    }
   ],
   "source": [
    "q = \"\"\"SELECT \n",
    "        COUNT(CASE when hotel = 'Resort Hotel' then 'yes' END) as Resort_Hotel_number_of_visits,\n",
    "        COUNT(CASE when hotel= 'City Hotel' then 'yes' END) as City_Hotel_number_of_visits\n",
    "        from df\n",
    "        where reservation_status = 'Check-Out' \"\"\"\n",
    "\n",
    "hotel = pysqldf(q)\n",
    "hotel"
   ]
  },
  {
   "cell_type": "markdown",
   "id": "reduced-disposal",
   "metadata": {},
   "source": [
    "### Year and Month"
   ]
  },
  {
   "cell_type": "markdown",
   "id": "weekly-basement",
   "metadata": {},
   "source": [
    "Year with the most visits"
   ]
  },
  {
   "cell_type": "code",
   "execution_count": 20,
   "id": "ceramic-freedom",
   "metadata": {},
   "outputs": [
    {
     "data": {
      "text/html": [
       "<div>\n",
       "<style scoped>\n",
       "    .dataframe tbody tr th:only-of-type {\n",
       "        vertical-align: middle;\n",
       "    }\n",
       "\n",
       "    .dataframe tbody tr th {\n",
       "        vertical-align: top;\n",
       "    }\n",
       "\n",
       "    .dataframe thead th {\n",
       "        text-align: right;\n",
       "    }\n",
       "</style>\n",
       "<table border=\"1\" class=\"dataframe\">\n",
       "  <thead>\n",
       "    <tr style=\"text-align: right;\">\n",
       "      <th></th>\n",
       "      <th>arrival_date_year</th>\n",
       "      <th>value_occurrence_year</th>\n",
       "    </tr>\n",
       "  </thead>\n",
       "  <tbody>\n",
       "    <tr>\n",
       "      <th>0</th>\n",
       "      <td>2016</td>\n",
       "      <td>42391</td>\n",
       "    </tr>\n",
       "    <tr>\n",
       "      <th>1</th>\n",
       "      <td>2017</td>\n",
       "      <td>31692</td>\n",
       "    </tr>\n",
       "    <tr>\n",
       "      <th>2</th>\n",
       "      <td>2015</td>\n",
       "      <td>13313</td>\n",
       "    </tr>\n",
       "  </tbody>\n",
       "</table>\n",
       "</div>"
      ],
      "text/plain": [
       "   arrival_date_year  value_occurrence_year\n",
       "0               2016                  42391\n",
       "1               2017                  31692\n",
       "2               2015                  13313"
      ]
     },
     "execution_count": 20,
     "metadata": {},
     "output_type": "execute_result"
    }
   ],
   "source": [
    "q = \"\"\"SELECT arrival_date_year,\n",
    "        count (arrival_date_year) as value_occurrence_year\n",
    "        from df\n",
    "        group by arrival_date_year\n",
    "        order by value_occurrence_year desc\"\"\"\n",
    "\n",
    "year_month = pysqldf(q)\n",
    "year_month"
   ]
  },
  {
   "cell_type": "markdown",
   "id": "unable-beginning",
   "metadata": {},
   "source": [
    "Month with the most visit"
   ]
  },
  {
   "cell_type": "code",
   "execution_count": 21,
   "id": "duplicate-reviewer",
   "metadata": {},
   "outputs": [
    {
     "data": {
      "text/html": [
       "<div>\n",
       "<style scoped>\n",
       "    .dataframe tbody tr th:only-of-type {\n",
       "        vertical-align: middle;\n",
       "    }\n",
       "\n",
       "    .dataframe tbody tr th {\n",
       "        vertical-align: top;\n",
       "    }\n",
       "\n",
       "    .dataframe thead th {\n",
       "        text-align: right;\n",
       "    }\n",
       "</style>\n",
       "<table border=\"1\" class=\"dataframe\">\n",
       "  <thead>\n",
       "    <tr style=\"text-align: right;\">\n",
       "      <th></th>\n",
       "      <th>arrival_date_month</th>\n",
       "      <th>value_occurrence</th>\n",
       "    </tr>\n",
       "  </thead>\n",
       "  <tbody>\n",
       "    <tr>\n",
       "      <th>0</th>\n",
       "      <td>August</td>\n",
       "      <td>11257</td>\n",
       "    </tr>\n",
       "    <tr>\n",
       "      <th>1</th>\n",
       "      <td>July</td>\n",
       "      <td>10057</td>\n",
       "    </tr>\n",
       "    <tr>\n",
       "      <th>2</th>\n",
       "      <td>May</td>\n",
       "      <td>8355</td>\n",
       "    </tr>\n",
       "    <tr>\n",
       "      <th>3</th>\n",
       "      <td>April</td>\n",
       "      <td>7908</td>\n",
       "    </tr>\n",
       "    <tr>\n",
       "      <th>4</th>\n",
       "      <td>June</td>\n",
       "      <td>7765</td>\n",
       "    </tr>\n",
       "    <tr>\n",
       "      <th>5</th>\n",
       "      <td>March</td>\n",
       "      <td>7513</td>\n",
       "    </tr>\n",
       "    <tr>\n",
       "      <th>6</th>\n",
       "      <td>October</td>\n",
       "      <td>6934</td>\n",
       "    </tr>\n",
       "    <tr>\n",
       "      <th>7</th>\n",
       "      <td>September</td>\n",
       "      <td>6690</td>\n",
       "    </tr>\n",
       "    <tr>\n",
       "      <th>8</th>\n",
       "      <td>February</td>\n",
       "      <td>6098</td>\n",
       "    </tr>\n",
       "    <tr>\n",
       "      <th>9</th>\n",
       "      <td>December</td>\n",
       "      <td>5131</td>\n",
       "    </tr>\n",
       "    <tr>\n",
       "      <th>10</th>\n",
       "      <td>November</td>\n",
       "      <td>4995</td>\n",
       "    </tr>\n",
       "    <tr>\n",
       "      <th>11</th>\n",
       "      <td>January</td>\n",
       "      <td>4693</td>\n",
       "    </tr>\n",
       "  </tbody>\n",
       "</table>\n",
       "</div>"
      ],
      "text/plain": [
       "   arrival_date_month  value_occurrence\n",
       "0              August             11257\n",
       "1                July             10057\n",
       "2                 May              8355\n",
       "3               April              7908\n",
       "4                June              7765\n",
       "5               March              7513\n",
       "6             October              6934\n",
       "7           September              6690\n",
       "8            February              6098\n",
       "9            December              5131\n",
       "10           November              4995\n",
       "11            January              4693"
      ]
     },
     "execution_count": 21,
     "metadata": {},
     "output_type": "execute_result"
    }
   ],
   "source": [
    "q = \"\"\"SELECT arrival_date_month,\n",
    "        count (arrival_date_month) as value_occurrence\n",
    "        from df\n",
    "        group by arrival_date_month\n",
    "        order by value_occurrence desc\"\"\"\n",
    "\n",
    "year_month = pysqldf(q)\n",
    "year_month"
   ]
  },
  {
   "cell_type": "markdown",
   "id": "moral-example",
   "metadata": {},
   "source": [
    "Finding out the months with most visits in the year 2016"
   ]
  },
  {
   "cell_type": "code",
   "execution_count": 22,
   "id": "contrary-instruction",
   "metadata": {},
   "outputs": [
    {
     "data": {
      "text/html": [
       "<div>\n",
       "<style scoped>\n",
       "    .dataframe tbody tr th:only-of-type {\n",
       "        vertical-align: middle;\n",
       "    }\n",
       "\n",
       "    .dataframe tbody tr th {\n",
       "        vertical-align: top;\n",
       "    }\n",
       "\n",
       "    .dataframe thead th {\n",
       "        text-align: right;\n",
       "    }\n",
       "</style>\n",
       "<table border=\"1\" class=\"dataframe\">\n",
       "  <thead>\n",
       "    <tr style=\"text-align: right;\">\n",
       "      <th></th>\n",
       "      <th>arrival_date_month</th>\n",
       "      <th>value_occurrence</th>\n",
       "    </tr>\n",
       "  </thead>\n",
       "  <tbody>\n",
       "    <tr>\n",
       "      <th>0</th>\n",
       "      <td>August</td>\n",
       "      <td>4423</td>\n",
       "    </tr>\n",
       "    <tr>\n",
       "      <th>1</th>\n",
       "      <td>October</td>\n",
       "      <td>4234</td>\n",
       "    </tr>\n",
       "    <tr>\n",
       "      <th>2</th>\n",
       "      <td>September</td>\n",
       "      <td>3851</td>\n",
       "    </tr>\n",
       "    <tr>\n",
       "      <th>3</th>\n",
       "      <td>July</td>\n",
       "      <td>3851</td>\n",
       "    </tr>\n",
       "    <tr>\n",
       "      <th>4</th>\n",
       "      <td>March</td>\n",
       "      <td>3831</td>\n",
       "    </tr>\n",
       "    <tr>\n",
       "      <th>5</th>\n",
       "      <td>May</td>\n",
       "      <td>3780</td>\n",
       "    </tr>\n",
       "    <tr>\n",
       "      <th>6</th>\n",
       "      <td>April</td>\n",
       "      <td>3770</td>\n",
       "    </tr>\n",
       "    <tr>\n",
       "      <th>7</th>\n",
       "      <td>June</td>\n",
       "      <td>3517</td>\n",
       "    </tr>\n",
       "    <tr>\n",
       "      <th>8</th>\n",
       "      <td>November</td>\n",
       "      <td>3330</td>\n",
       "    </tr>\n",
       "    <tr>\n",
       "      <th>9</th>\n",
       "      <td>December</td>\n",
       "      <td>3149</td>\n",
       "    </tr>\n",
       "    <tr>\n",
       "      <th>10</th>\n",
       "      <td>February</td>\n",
       "      <td>2806</td>\n",
       "    </tr>\n",
       "    <tr>\n",
       "      <th>11</th>\n",
       "      <td>January</td>\n",
       "      <td>1849</td>\n",
       "    </tr>\n",
       "  </tbody>\n",
       "</table>\n",
       "</div>"
      ],
      "text/plain": [
       "   arrival_date_month  value_occurrence\n",
       "0              August              4423\n",
       "1             October              4234\n",
       "2           September              3851\n",
       "3                July              3851\n",
       "4               March              3831\n",
       "5                 May              3780\n",
       "6               April              3770\n",
       "7                June              3517\n",
       "8            November              3330\n",
       "9            December              3149\n",
       "10           February              2806\n",
       "11            January              1849"
      ]
     },
     "execution_count": 22,
     "metadata": {},
     "output_type": "execute_result"
    }
   ],
   "source": [
    "q = \"\"\"SELECT arrival_date_month,\n",
    "        count (arrival_date_month) as value_occurrence\n",
    "        from df\n",
    "        where arrival_date_year = '2016'\n",
    "        group by arrival_date_month\n",
    "        order by value_occurrence desc\"\"\"\n",
    "\n",
    "year_month = pysqldf(q)\n",
    "year_month\n",
    "\n",
    "\n"
   ]
  },
  {
   "cell_type": "markdown",
   "id": "seasonal-triple",
   "metadata": {},
   "source": [
    "### Country"
   ]
  },
  {
   "cell_type": "markdown",
   "id": "talented-emerald",
   "metadata": {},
   "source": [
    "Number of countries that LimeHome Program exist"
   ]
  },
  {
   "cell_type": "code",
   "execution_count": 23,
   "id": "interpreted-prince",
   "metadata": {},
   "outputs": [
    {
     "data": {
      "text/html": [
       "<div>\n",
       "<style scoped>\n",
       "    .dataframe tbody tr th:only-of-type {\n",
       "        vertical-align: middle;\n",
       "    }\n",
       "\n",
       "    .dataframe tbody tr th {\n",
       "        vertical-align: top;\n",
       "    }\n",
       "\n",
       "    .dataframe thead th {\n",
       "        text-align: right;\n",
       "    }\n",
       "</style>\n",
       "<table border=\"1\" class=\"dataframe\">\n",
       "  <thead>\n",
       "    <tr style=\"text-align: right;\">\n",
       "      <th></th>\n",
       "      <th>Number_of_countries_in_LimeHomes_Program</th>\n",
       "    </tr>\n",
       "  </thead>\n",
       "  <tbody>\n",
       "    <tr>\n",
       "      <th>0</th>\n",
       "      <td>178</td>\n",
       "    </tr>\n",
       "  </tbody>\n",
       "</table>\n",
       "</div>"
      ],
      "text/plain": [
       "   Number_of_countries_in_LimeHomes_Program\n",
       "0                                       178"
      ]
     },
     "execution_count": 23,
     "metadata": {},
     "output_type": "execute_result"
    }
   ],
   "source": [
    "q = \"\"\"SELECT COUNT(DISTINCT country) as Number_of_countries_in_LimeHomes_Program\n",
    "        from df;\"\"\"\n",
    "\n",
    "\n",
    "country = pysqldf(q)\n",
    "country"
   ]
  },
  {
   "cell_type": "markdown",
   "id": "destroyed-beaver",
   "metadata": {},
   "source": [
    "Most/least visited countries"
   ]
  },
  {
   "cell_type": "code",
   "execution_count": 24,
   "id": "pretty-style",
   "metadata": {},
   "outputs": [
    {
     "data": {
      "text/html": [
       "<div>\n",
       "<style scoped>\n",
       "    .dataframe tbody tr th:only-of-type {\n",
       "        vertical-align: middle;\n",
       "    }\n",
       "\n",
       "    .dataframe tbody tr th {\n",
       "        vertical-align: top;\n",
       "    }\n",
       "\n",
       "    .dataframe thead th {\n",
       "        text-align: right;\n",
       "    }\n",
       "</style>\n",
       "<table border=\"1\" class=\"dataframe\">\n",
       "  <thead>\n",
       "    <tr style=\"text-align: right;\">\n",
       "      <th></th>\n",
       "      <th>country</th>\n",
       "      <th>value_occurrence</th>\n",
       "    </tr>\n",
       "  </thead>\n",
       "  <tbody>\n",
       "    <tr>\n",
       "      <th>0</th>\n",
       "      <td>PRT</td>\n",
       "      <td>27453</td>\n",
       "    </tr>\n",
       "    <tr>\n",
       "      <th>1</th>\n",
       "      <td>GBR</td>\n",
       "      <td>10433</td>\n",
       "    </tr>\n",
       "    <tr>\n",
       "      <th>2</th>\n",
       "      <td>FRA</td>\n",
       "      <td>8837</td>\n",
       "    </tr>\n",
       "    <tr>\n",
       "      <th>3</th>\n",
       "      <td>ESP</td>\n",
       "      <td>7252</td>\n",
       "    </tr>\n",
       "    <tr>\n",
       "      <th>4</th>\n",
       "      <td>DEU</td>\n",
       "      <td>5387</td>\n",
       "    </tr>\n",
       "    <tr>\n",
       "      <th>...</th>\n",
       "      <td>...</td>\n",
       "      <td>...</td>\n",
       "    </tr>\n",
       "    <tr>\n",
       "      <th>173</th>\n",
       "      <td>BFA</td>\n",
       "      <td>1</td>\n",
       "    </tr>\n",
       "    <tr>\n",
       "      <th>174</th>\n",
       "      <td>BDI</td>\n",
       "      <td>1</td>\n",
       "    </tr>\n",
       "    <tr>\n",
       "      <th>175</th>\n",
       "      <td>ATF</td>\n",
       "      <td>1</td>\n",
       "    </tr>\n",
       "    <tr>\n",
       "      <th>176</th>\n",
       "      <td>ASM</td>\n",
       "      <td>1</td>\n",
       "    </tr>\n",
       "    <tr>\n",
       "      <th>177</th>\n",
       "      <td>AIA</td>\n",
       "      <td>1</td>\n",
       "    </tr>\n",
       "  </tbody>\n",
       "</table>\n",
       "<p>178 rows × 2 columns</p>\n",
       "</div>"
      ],
      "text/plain": [
       "    country  value_occurrence\n",
       "0       PRT             27453\n",
       "1       GBR             10433\n",
       "2       FRA              8837\n",
       "3       ESP              7252\n",
       "4       DEU              5387\n",
       "..      ...               ...\n",
       "173     BFA                 1\n",
       "174     BDI                 1\n",
       "175     ATF                 1\n",
       "176     ASM                 1\n",
       "177     AIA                 1\n",
       "\n",
       "[178 rows x 2 columns]"
      ]
     },
     "execution_count": 24,
     "metadata": {},
     "output_type": "execute_result"
    }
   ],
   "source": [
    "q = \"\"\"SELECT country,\n",
    "        count (country) as value_occurrence\n",
    "        from df\n",
    "        group by country\n",
    "        order by value_occurrence desc\"\"\"\n",
    "\n",
    "country = pysqldf(q)\n",
    "country"
   ]
  },
  {
   "cell_type": "markdown",
   "id": "professional-supervisor",
   "metadata": {},
   "source": [
    "Checking the month in which we have the most visits in PRT (Portugal)."
   ]
  },
  {
   "cell_type": "code",
   "execution_count": 25,
   "id": "copyrighted-thunder",
   "metadata": {},
   "outputs": [
    {
     "data": {
      "text/html": [
       "<div>\n",
       "<style scoped>\n",
       "    .dataframe tbody tr th:only-of-type {\n",
       "        vertical-align: middle;\n",
       "    }\n",
       "\n",
       "    .dataframe tbody tr th {\n",
       "        vertical-align: top;\n",
       "    }\n",
       "\n",
       "    .dataframe thead th {\n",
       "        text-align: right;\n",
       "    }\n",
       "</style>\n",
       "<table border=\"1\" class=\"dataframe\">\n",
       "  <thead>\n",
       "    <tr style=\"text-align: right;\">\n",
       "      <th></th>\n",
       "      <th>arrival_date_month</th>\n",
       "      <th>value_occurrence</th>\n",
       "    </tr>\n",
       "  </thead>\n",
       "  <tbody>\n",
       "    <tr>\n",
       "      <th>0</th>\n",
       "      <td>August</td>\n",
       "      <td>3629</td>\n",
       "    </tr>\n",
       "    <tr>\n",
       "      <th>1</th>\n",
       "      <td>July</td>\n",
       "      <td>3260</td>\n",
       "    </tr>\n",
       "    <tr>\n",
       "      <th>2</th>\n",
       "      <td>March</td>\n",
       "      <td>2336</td>\n",
       "    </tr>\n",
       "    <tr>\n",
       "      <th>3</th>\n",
       "      <td>February</td>\n",
       "      <td>2217</td>\n",
       "    </tr>\n",
       "    <tr>\n",
       "      <th>4</th>\n",
       "      <td>September</td>\n",
       "      <td>2196</td>\n",
       "    </tr>\n",
       "    <tr>\n",
       "      <th>5</th>\n",
       "      <td>June</td>\n",
       "      <td>2154</td>\n",
       "    </tr>\n",
       "    <tr>\n",
       "      <th>6</th>\n",
       "      <td>October</td>\n",
       "      <td>2127</td>\n",
       "    </tr>\n",
       "    <tr>\n",
       "      <th>7</th>\n",
       "      <td>May</td>\n",
       "      <td>2081</td>\n",
       "    </tr>\n",
       "    <tr>\n",
       "      <th>8</th>\n",
       "      <td>December</td>\n",
       "      <td>1983</td>\n",
       "    </tr>\n",
       "    <tr>\n",
       "      <th>9</th>\n",
       "      <td>April</td>\n",
       "      <td>1974</td>\n",
       "    </tr>\n",
       "    <tr>\n",
       "      <th>10</th>\n",
       "      <td>January</td>\n",
       "      <td>1757</td>\n",
       "    </tr>\n",
       "    <tr>\n",
       "      <th>11</th>\n",
       "      <td>November</td>\n",
       "      <td>1739</td>\n",
       "    </tr>\n",
       "  </tbody>\n",
       "</table>\n",
       "</div>"
      ],
      "text/plain": [
       "   arrival_date_month  value_occurrence\n",
       "0              August              3629\n",
       "1                July              3260\n",
       "2               March              2336\n",
       "3            February              2217\n",
       "4           September              2196\n",
       "5                June              2154\n",
       "6             October              2127\n",
       "7                 May              2081\n",
       "8            December              1983\n",
       "9               April              1974\n",
       "10            January              1757\n",
       "11           November              1739"
      ]
     },
     "execution_count": 25,
     "metadata": {},
     "output_type": "execute_result"
    }
   ],
   "source": [
    "q = \"\"\"SELECT arrival_date_month,\n",
    "        count (arrival_date_month) as value_occurrence\n",
    "        from df\n",
    "        where country = 'PRT' \n",
    "        group by arrival_date_month\n",
    "        order by value_occurrence desc\"\"\"\n",
    "\n",
    "country = pysqldf(q)\n",
    "country"
   ]
  },
  {
   "cell_type": "markdown",
   "id": "material-minutes",
   "metadata": {},
   "source": [
    " ### Meal "
   ]
  },
  {
   "cell_type": "markdown",
   "id": "professional-removal",
   "metadata": {},
   "source": [
    "Most demanded meal"
   ]
  },
  {
   "cell_type": "code",
   "execution_count": 26,
   "id": "dense-archive",
   "metadata": {},
   "outputs": [
    {
     "data": {
      "text/html": [
       "<div>\n",
       "<style scoped>\n",
       "    .dataframe tbody tr th:only-of-type {\n",
       "        vertical-align: middle;\n",
       "    }\n",
       "\n",
       "    .dataframe tbody tr th {\n",
       "        vertical-align: top;\n",
       "    }\n",
       "\n",
       "    .dataframe thead th {\n",
       "        text-align: right;\n",
       "    }\n",
       "</style>\n",
       "<table border=\"1\" class=\"dataframe\">\n",
       "  <thead>\n",
       "    <tr style=\"text-align: right;\">\n",
       "      <th></th>\n",
       "      <th>meal</th>\n",
       "      <th>value_occurrence</th>\n",
       "    </tr>\n",
       "  </thead>\n",
       "  <tbody>\n",
       "    <tr>\n",
       "      <th>0</th>\n",
       "      <td>BB</td>\n",
       "      <td>67978</td>\n",
       "    </tr>\n",
       "    <tr>\n",
       "      <th>1</th>\n",
       "      <td>SC</td>\n",
       "      <td>9481</td>\n",
       "    </tr>\n",
       "    <tr>\n",
       "      <th>2</th>\n",
       "      <td>HB</td>\n",
       "      <td>9085</td>\n",
       "    </tr>\n",
       "    <tr>\n",
       "      <th>3</th>\n",
       "      <td>Undefined</td>\n",
       "      <td>492</td>\n",
       "    </tr>\n",
       "    <tr>\n",
       "      <th>4</th>\n",
       "      <td>FB</td>\n",
       "      <td>360</td>\n",
       "    </tr>\n",
       "  </tbody>\n",
       "</table>\n",
       "</div>"
      ],
      "text/plain": [
       "        meal  value_occurrence\n",
       "0         BB             67978\n",
       "1         SC              9481\n",
       "2         HB              9085\n",
       "3  Undefined               492\n",
       "4         FB               360"
      ]
     },
     "execution_count": 26,
     "metadata": {},
     "output_type": "execute_result"
    }
   ],
   "source": [
    "q = \"\"\"SELECT meal,\n",
    "        count (meal) as value_occurrence\n",
    "        from df\n",
    "        group by meal\n",
    "        order by value_occurrence desc\"\"\"\n",
    "\n",
    "meal = pysqldf(q)\n",
    "meal"
   ]
  },
  {
   "cell_type": "markdown",
   "id": "raising-hamilton",
   "metadata": {},
   "source": [
    "Most demanded meal in PRT"
   ]
  },
  {
   "cell_type": "code",
   "execution_count": 27,
   "id": "dense-blogger",
   "metadata": {},
   "outputs": [
    {
     "data": {
      "text/html": [
       "<div>\n",
       "<style scoped>\n",
       "    .dataframe tbody tr th:only-of-type {\n",
       "        vertical-align: middle;\n",
       "    }\n",
       "\n",
       "    .dataframe tbody tr th {\n",
       "        vertical-align: top;\n",
       "    }\n",
       "\n",
       "    .dataframe thead th {\n",
       "        text-align: right;\n",
       "    }\n",
       "</style>\n",
       "<table border=\"1\" class=\"dataframe\">\n",
       "  <thead>\n",
       "    <tr style=\"text-align: right;\">\n",
       "      <th></th>\n",
       "      <th>meal</th>\n",
       "      <th>value_occurrence</th>\n",
       "    </tr>\n",
       "  </thead>\n",
       "  <tbody>\n",
       "    <tr>\n",
       "      <th>0</th>\n",
       "      <td>BB</td>\n",
       "      <td>22283</td>\n",
       "    </tr>\n",
       "    <tr>\n",
       "      <th>1</th>\n",
       "      <td>HB</td>\n",
       "      <td>3160</td>\n",
       "    </tr>\n",
       "    <tr>\n",
       "      <th>2</th>\n",
       "      <td>SC</td>\n",
       "      <td>1484</td>\n",
       "    </tr>\n",
       "    <tr>\n",
       "      <th>3</th>\n",
       "      <td>Undefined</td>\n",
       "      <td>267</td>\n",
       "    </tr>\n",
       "    <tr>\n",
       "      <th>4</th>\n",
       "      <td>FB</td>\n",
       "      <td>259</td>\n",
       "    </tr>\n",
       "  </tbody>\n",
       "</table>\n",
       "</div>"
      ],
      "text/plain": [
       "        meal  value_occurrence\n",
       "0         BB             22283\n",
       "1         HB              3160\n",
       "2         SC              1484\n",
       "3  Undefined               267\n",
       "4         FB               259"
      ]
     },
     "execution_count": 27,
     "metadata": {},
     "output_type": "execute_result"
    }
   ],
   "source": [
    "q = \"\"\"SELECT meal,\n",
    "        count (meal) as value_occurrence\n",
    "        from df\n",
    "        where country = 'PRT' \n",
    "        group by meal\n",
    "        order by value_occurrence desc\"\"\"\n",
    "\n",
    "meal = pysqldf(q)\n",
    "meal"
   ]
  },
  {
   "cell_type": "markdown",
   "id": "engaged-constant",
   "metadata": {},
   "source": [
    "### distribution_channel"
   ]
  },
  {
   "cell_type": "markdown",
   "id": "visible-oasis",
   "metadata": {},
   "source": [
    "Most used distribution channel"
   ]
  },
  {
   "cell_type": "code",
   "execution_count": 28,
   "id": "fundamental-abraham",
   "metadata": {},
   "outputs": [
    {
     "data": {
      "text/html": [
       "<div>\n",
       "<style scoped>\n",
       "    .dataframe tbody tr th:only-of-type {\n",
       "        vertical-align: middle;\n",
       "    }\n",
       "\n",
       "    .dataframe tbody tr th {\n",
       "        vertical-align: top;\n",
       "    }\n",
       "\n",
       "    .dataframe thead th {\n",
       "        text-align: right;\n",
       "    }\n",
       "</style>\n",
       "<table border=\"1\" class=\"dataframe\">\n",
       "  <thead>\n",
       "    <tr style=\"text-align: right;\">\n",
       "      <th></th>\n",
       "      <th>distribution_channel</th>\n",
       "      <th>value_occurrence</th>\n",
       "    </tr>\n",
       "  </thead>\n",
       "  <tbody>\n",
       "    <tr>\n",
       "      <th>0</th>\n",
       "      <td>TA/TO</td>\n",
       "      <td>69141</td>\n",
       "    </tr>\n",
       "    <tr>\n",
       "      <th>1</th>\n",
       "      <td>Direct</td>\n",
       "      <td>12988</td>\n",
       "    </tr>\n",
       "    <tr>\n",
       "      <th>2</th>\n",
       "      <td>Corporate</td>\n",
       "      <td>5081</td>\n",
       "    </tr>\n",
       "    <tr>\n",
       "      <th>3</th>\n",
       "      <td>GDS</td>\n",
       "      <td>181</td>\n",
       "    </tr>\n",
       "    <tr>\n",
       "      <th>4</th>\n",
       "      <td>Undefined</td>\n",
       "      <td>5</td>\n",
       "    </tr>\n",
       "  </tbody>\n",
       "</table>\n",
       "</div>"
      ],
      "text/plain": [
       "  distribution_channel  value_occurrence\n",
       "0                TA/TO             69141\n",
       "1               Direct             12988\n",
       "2            Corporate              5081\n",
       "3                  GDS               181\n",
       "4            Undefined                 5"
      ]
     },
     "execution_count": 28,
     "metadata": {},
     "output_type": "execute_result"
    }
   ],
   "source": [
    "q = \"\"\"SELECT distribution_channel,\n",
    "        count (distribution_channel) as value_occurrence\n",
    "        from df\n",
    "        group by distribution_channel\n",
    "        order by value_occurrence desc\"\"\"\n",
    "\n",
    "distribution_channel = pysqldf(q)\n",
    "distribution_channel"
   ]
  },
  {
   "cell_type": "markdown",
   "id": "automatic-supply",
   "metadata": {},
   "source": [
    "### customer_type"
   ]
  },
  {
   "cell_type": "markdown",
   "id": "standing-slovenia",
   "metadata": {},
   "source": [
    "Available customer types "
   ]
  },
  {
   "cell_type": "code",
   "execution_count": 29,
   "id": "dietary-halifax",
   "metadata": {},
   "outputs": [
    {
     "data": {
      "text/html": [
       "<div>\n",
       "<style scoped>\n",
       "    .dataframe tbody tr th:only-of-type {\n",
       "        vertical-align: middle;\n",
       "    }\n",
       "\n",
       "    .dataframe tbody tr th {\n",
       "        vertical-align: top;\n",
       "    }\n",
       "\n",
       "    .dataframe thead th {\n",
       "        text-align: right;\n",
       "    }\n",
       "</style>\n",
       "<table border=\"1\" class=\"dataframe\">\n",
       "  <thead>\n",
       "    <tr style=\"text-align: right;\">\n",
       "      <th></th>\n",
       "      <th>customer_type</th>\n",
       "      <th>value_occurrence</th>\n",
       "    </tr>\n",
       "  </thead>\n",
       "  <tbody>\n",
       "    <tr>\n",
       "      <th>0</th>\n",
       "      <td>Transient</td>\n",
       "      <td>71986</td>\n",
       "    </tr>\n",
       "    <tr>\n",
       "      <th>1</th>\n",
       "      <td>Transient-Party</td>\n",
       "      <td>11727</td>\n",
       "    </tr>\n",
       "    <tr>\n",
       "      <th>2</th>\n",
       "      <td>Contract</td>\n",
       "      <td>3139</td>\n",
       "    </tr>\n",
       "    <tr>\n",
       "      <th>3</th>\n",
       "      <td>Group</td>\n",
       "      <td>544</td>\n",
       "    </tr>\n",
       "  </tbody>\n",
       "</table>\n",
       "</div>"
      ],
      "text/plain": [
       "     customer_type  value_occurrence\n",
       "0        Transient             71986\n",
       "1  Transient-Party             11727\n",
       "2         Contract              3139\n",
       "3            Group               544"
      ]
     },
     "execution_count": 29,
     "metadata": {},
     "output_type": "execute_result"
    }
   ],
   "source": [
    "q = \"\"\"SELECT customer_type,\n",
    "        count (customer_type) as value_occurrence\n",
    "        from df\n",
    "        group by customer_type\n",
    "        order by value_occurrence desc\"\"\"\n",
    "\n",
    "\n",
    "customer_type = pysqldf(q)\n",
    "customer_type"
   ]
  },
  {
   "cell_type": "markdown",
   "id": "strange-moore",
   "metadata": {},
   "source": [
    "Average number of booking changes made by Transient customer types "
   ]
  },
  {
   "cell_type": "code",
   "execution_count": 30,
   "id": "requested-archive",
   "metadata": {},
   "outputs": [
    {
     "data": {
      "text/html": [
       "<div>\n",
       "<style scoped>\n",
       "    .dataframe tbody tr th:only-of-type {\n",
       "        vertical-align: middle;\n",
       "    }\n",
       "\n",
       "    .dataframe tbody tr th {\n",
       "        vertical-align: top;\n",
       "    }\n",
       "\n",
       "    .dataframe thead th {\n",
       "        text-align: right;\n",
       "    }\n",
       "</style>\n",
       "<table border=\"1\" class=\"dataframe\">\n",
       "  <thead>\n",
       "    <tr style=\"text-align: right;\">\n",
       "      <th></th>\n",
       "      <th>AVG(booking_changes)</th>\n",
       "      <th>MAX(booking_changes)</th>\n",
       "    </tr>\n",
       "  </thead>\n",
       "  <tbody>\n",
       "    <tr>\n",
       "      <th>0</th>\n",
       "      <td>1.466921</td>\n",
       "      <td>20</td>\n",
       "    </tr>\n",
       "  </tbody>\n",
       "</table>\n",
       "</div>"
      ],
      "text/plain": [
       "   AVG(booking_changes)  MAX(booking_changes)\n",
       "0              1.466921                    20"
      ]
     },
     "execution_count": 30,
     "metadata": {},
     "output_type": "execute_result"
    }
   ],
   "source": [
    "q = \"\"\"SELECT \n",
    "       AVG(booking_changes),  MAX(booking_changes)\n",
    "        from df\n",
    "        where (customer_type='Transient' and booking_changes >=1)\n",
    "        \"\"\"\n",
    "\n",
    "customer_type = pysqldf(q)\n",
    "customer_type"
   ]
  },
  {
   "cell_type": "markdown",
   "id": "stone-insurance",
   "metadata": {},
   "source": [
    "Average number of previous cancellations made by Transient customer type"
   ]
  },
  {
   "cell_type": "code",
   "execution_count": null,
   "id": "unnecessary-payday",
   "metadata": {},
   "outputs": [],
   "source": [
    "\n",
    "q = \"\"\"SELECT avg(previous_cancellations), max(previous_cancellations)\n",
    "        from df\n",
    "        where (customer_type='Transient' and previous_cancellations>=1 )\n",
    "\n",
    "    \"\"\"\n",
    "\n",
    "\n",
    "previous_cancellations = pysqldf(q)\n",
    "previous_cancellations"
   ]
  },
  {
   "cell_type": "markdown",
   "id": "precise-royalty",
   "metadata": {},
   "source": [
    "Transient customer type average number of children "
   ]
  },
  {
   "cell_type": "code",
   "execution_count": null,
   "id": "potential-debut",
   "metadata": {},
   "outputs": [],
   "source": [
    "q = \"\"\"SELECT \n",
    "       AVG(children),  MAX(children)\n",
    "        from df\n",
    "        where (customer_type='Transient' and is_canceled =0)\n",
    "        \"\"\"\n",
    "\n",
    "customer_type = pysqldf(q)\n",
    "customer_type"
   ]
  },
  {
   "cell_type": "markdown",
   "id": "shared-council",
   "metadata": {},
   "source": [
    "### Reserved Room"
   ]
  },
  {
   "cell_type": "markdown",
   "id": "religious-bernard",
   "metadata": {},
   "source": [
    "Most/least reserve room type"
   ]
  },
  {
   "cell_type": "code",
   "execution_count": null,
   "id": "cubic-harmony",
   "metadata": {},
   "outputs": [],
   "source": [
    "q = \"\"\"SELECT reserved_room_type,\n",
    "        count (reserved_room_type) as value_occurrence\n",
    "        from df\n",
    "        group by reserved_room_type\n",
    "        order by value_occurrence desc\"\"\"\n",
    "\n",
    "room = pysqldf(q)\n",
    "room"
   ]
  },
  {
   "cell_type": "markdown",
   "id": "supposed-trustee",
   "metadata": {},
   "source": [
    "Most/least reserve room type by Transient customer type"
   ]
  },
  {
   "cell_type": "code",
   "execution_count": null,
   "id": "color-planner",
   "metadata": {},
   "outputs": [],
   "source": [
    "q = \"\"\"SELECT reserved_room_type,\n",
    "        count (reserved_room_type) as value_occurrence\n",
    "        from df\n",
    "        where (customer_type='Transient' and is_canceled =0)\n",
    "        group by reserved_room_type\n",
    "        order by value_occurrence desc\"\"\"\n",
    "\n",
    "room = pysqldf(q)\n",
    "room"
   ]
  },
  {
   "cell_type": "markdown",
   "id": "animated-final",
   "metadata": {},
   "source": [
    "### Parking Spaces "
   ]
  },
  {
   "cell_type": "markdown",
   "id": "fundamental-payment",
   "metadata": {},
   "source": [
    "The number of parking spaces often required by all customers"
   ]
  },
  {
   "cell_type": "code",
   "execution_count": null,
   "id": "chubby-wheel",
   "metadata": {},
   "outputs": [],
   "source": [
    "q = \"\"\"SELECT required_car_parking_spaces,\n",
    "        count (required_car_parking_spaces) as value_occurrence\n",
    "        from df\n",
    "        group by required_car_parking_spaces\n",
    "        order by value_occurrence desc\"\"\"\n",
    "\n",
    "parking = pysqldf(q)\n",
    "parking"
   ]
  },
  {
   "cell_type": "markdown",
   "id": "acting-button",
   "metadata": {},
   "source": [
    "The number of parking spaces often required by Transient customer type"
   ]
  },
  {
   "cell_type": "code",
   "execution_count": null,
   "id": "tested-music",
   "metadata": {},
   "outputs": [],
   "source": [
    "q = \"\"\"SELECT required_car_parking_spaces,\n",
    "        count (required_car_parking_spaces) as value_occurrence\n",
    "        from df\n",
    "        where (customer_type='Transient' and is_canceled =0)\n",
    "        group by required_car_parking_spaces\n",
    "        order by value_occurrence desc\"\"\"\n",
    "\n",
    "parking = pysqldf(q)\n",
    "parking"
   ]
  },
  {
   "cell_type": "markdown",
   "id": "union-people",
   "metadata": {},
   "source": [
    "# Hypotheses"
   ]
  },
  {
   "cell_type": "markdown",
   "id": "automated-discharge",
   "metadata": {},
   "source": [
    "## Hypothesis 1\n",
    "\n",
    "As explored, 2016 was the year with the most touristc travels and Portugal was the most visited country. Even in 2016, Portugal was the most visited country, see results below."
   ]
  },
  {
   "cell_type": "code",
   "execution_count": null,
   "id": "jewish-apache",
   "metadata": {},
   "outputs": [],
   "source": [
    "q = \"\"\"SELECT country,\n",
    "        count (country) as value_occurrence\n",
    "        from df\n",
    "        where arrival_date_year = '2016'\n",
    "        group by country\n",
    "        order by value_occurrence desc\"\"\"\n",
    "\n",
    "country = pysqldf(q)\n",
    "country"
   ]
  },
  {
   "cell_type": "markdown",
   "id": "boolean-camping",
   "metadata": {},
   "source": [
    "My hypothesis to why Portugal had the most visit, even more that what Britian had was because of the temperature in Portugal was higher, especially in the summer. \n",
    "\n",
    "In addition, the Portugal News (2017) reported Portugal broke the weather records in June, July, August and September in 2016. Temperatures reaching record highs, with exceptionally low precipitation. \n",
    "\n",
    "\n",
    "\n",
    "References: \n",
    "\n",
    "Holiday Weather, Algarve, Portugal: Annual Weather Averages. https://www.holiday-weather.com/algarve/averages/\n",
    "\n",
    "Holiday Weather, London, United Kingdom: Annual Weather Averages. https://www.holiday-weather.com/london/averages/\n",
    "\n",
    "The Portugal News, Portugal’s €7bn climate change bill, 2017. https://www.theportugalnews.com/news/portugals-7bn-climate-change-bill/40860#:~:text=In%20terms%20of%20the%20effects,by%20temperatures%20reached%20in%201989. "
   ]
  },
  {
   "cell_type": "markdown",
   "id": "engaged-northwest",
   "metadata": {},
   "source": [
    "Checking the month with the highest visit in Portugal "
   ]
  },
  {
   "cell_type": "code",
   "execution_count": null,
   "id": "regulated-pharmaceutical",
   "metadata": {},
   "outputs": [],
   "source": [
    "q = \"\"\"SELECT arrival_date_month,\n",
    "        count (arrival_date_month) as value_occurrence\n",
    "        from df\n",
    "        where ( country = 'PRT' )\n",
    "        group by arrival_date_month\n",
    "        order by value_occurrence desc\"\"\"\n",
    "\n",
    "country = pysqldf(q)\n",
    "country"
   ]
  },
  {
   "cell_type": "markdown",
   "id": "several-billy",
   "metadata": {},
   "source": [
    "Although Spain close to Portugal and even has higher temperature than Portugal, Portugal had more visitors than Spain. There are a lot of reasons to why this is the case. Some are: hotel prices in both countries, proximity to the sea and beaches, population density of the tourist cities, tourism policies etc. \n",
    "\n",
    "\n",
    "Reference:\n",
    "\n",
    "Almeida García, Fernando & Macias, Rafael & Balbuena, Antonia. (2015). Tourist Spaces and Tourism Policy in Spain and Portugal. International Journal of Culture Tourism and Hospitality Research. 10. 235-249. 10.1108/S1871-317320150000010017. "
   ]
  },
  {
   "cell_type": "code",
   "execution_count": null,
   "id": "focal-candidate",
   "metadata": {},
   "outputs": [],
   "source": []
  },
  {
   "cell_type": "markdown",
   "id": "nervous-valuation",
   "metadata": {},
   "source": [
    "## Hypothesis 2\n",
    "\n",
    "\n",
    "\n",
    "With over 67,978 (restrictly BB) room reservations including breakfast , it is of no surprised why this is the case. For decades there has been a lot of articles proving why breakfast is the most important meal of the day. The convenience and benefit of having breakfast even when you are far from home in a hotel is often worth the additional fee that hotels or Airbnb charge for breakfast.  \n",
    "\n",
    "\n",
    "BB (Bed and Breakfast) —— Breakfast s included. \n",
    "\n",
    "SC (Self Catering) —— No meals are included; however, your accommodation will be provided with catering facilities for you to cook light meals.\n",
    "\n",
    "HB (Half Board) —— Breakfast and evening meals are included. In some cases, you can choose to receive lunch instead of breakfast – the hotel will confirm this on arrival.\n",
    "\n",
    "\n",
    "\n",
    "Reference:\n",
    "\n",
    "Charles Spence,\n",
    "Breakfast: The most important meal of the day?,\n",
    "International Journal of Gastronomy and Food Science,\n",
    "Volume 8,\n",
    "2017,\n",
    "Pages 1-6,\n",
    "ISSN 1878-450X,\n",
    "https://doi.org/10.1016/j.ijgfs.2017.01.003. \n",
    "\n",
    "\n",
    "Benton et al., 2001\n",
    "D. Benton, O. Slater, R.T. Donohoe\n",
    "The influence of breakfast and a snack on psychological functioning\n",
    "Physiol. Behav., 74 (2001), pp. 559-571\n"
   ]
  },
  {
   "cell_type": "markdown",
   "id": "behind-people",
   "metadata": {},
   "source": [
    "# Seasonality\n",
    "\n",
    "My first hypothesis already indicates that there is seasonality. There is more reservations/travels/touristic activaites in the summer that any other season. The least reservations were observed in the autumn and winter. \n",
    "Also to be noted is that reservations starts increasing in spring as the temperature gets warmer, and then peaks in the summer. "
   ]
  },
  {
   "cell_type": "code",
   "execution_count": null,
   "id": "attached-charity",
   "metadata": {},
   "outputs": [],
   "source": [
    "q = \"\"\"SELECT arrival_date_month,\n",
    "        count (arrival_date_month) as value_occurrence\n",
    "        from df\n",
    "        group by arrival_date_month\n",
    "        order by value_occurrence desc\"\"\"\n",
    "\n",
    "country = pysqldf(q)\n",
    "country"
   ]
  },
  {
   "cell_type": "code",
   "execution_count": null,
   "id": "duplicate-taxation",
   "metadata": {},
   "outputs": [],
   "source": []
  },
  {
   "cell_type": "code",
   "execution_count": null,
   "id": "strange-wallet",
   "metadata": {},
   "outputs": [],
   "source": []
  },
  {
   "cell_type": "code",
   "execution_count": null,
   "id": "ordered-toolbox",
   "metadata": {},
   "outputs": [],
   "source": []
  },
  {
   "cell_type": "code",
   "execution_count": null,
   "id": "chief-federation",
   "metadata": {},
   "outputs": [],
   "source": []
  },
  {
   "cell_type": "code",
   "execution_count": null,
   "id": "uniform-microwave",
   "metadata": {},
   "outputs": [],
   "source": []
  },
  {
   "cell_type": "code",
   "execution_count": null,
   "id": "reliable-supervision",
   "metadata": {},
   "outputs": [],
   "source": []
  },
  {
   "cell_type": "code",
   "execution_count": null,
   "id": "completed-balloon",
   "metadata": {},
   "outputs": [],
   "source": []
  },
  {
   "cell_type": "code",
   "execution_count": null,
   "id": "coupled-component",
   "metadata": {},
   "outputs": [],
   "source": []
  },
  {
   "cell_type": "markdown",
   "id": "scientific-lounge",
   "metadata": {},
   "source": [
    "# Correlation between lead time and cancellation"
   ]
  },
  {
   "cell_type": "code",
   "execution_count": null,
   "id": "nearby-halloween",
   "metadata": {},
   "outputs": [],
   "source": [
    "df['is_canceled'].corr(df['lead_time'])"
   ]
  },
  {
   "cell_type": "markdown",
   "id": "alien-straight",
   "metadata": {},
   "source": [
    "## Running a simple logistic regression "
   ]
  },
  {
   "cell_type": "markdown",
   "id": "settled-collapse",
   "metadata": {},
   "source": [
    "### Defining the features and labels"
   ]
  },
  {
   "cell_type": "markdown",
   "id": "global-cycle",
   "metadata": {},
   "source": [
    "Lead Time: In a hotel system, lead time is the length of time between which a customer makes a reservation and their actual arrival. This will be independent variable  or feature (X) in the machine learning classification model that will be built.\n",
    "\n",
    "Cancelation: This tells us whether a customer has canceled their reservation or not. This will be our dependent variable or label (y).\n",
    "0 —— means the customer has NOT canceled their reservation\n",
    "1 —— means the customer has CANCELED their reservation \n"
   ]
  },
  {
   "cell_type": "code",
   "execution_count": null,
   "id": "worse-casino",
   "metadata": {},
   "outputs": [],
   "source": [
    "\n",
    "\n",
    "X= df['lead_time'].values\n",
    "X = X.reshape(-1, 1)\n",
    "X"
   ]
  },
  {
   "cell_type": "code",
   "execution_count": null,
   "id": "several-springer",
   "metadata": {},
   "outputs": [],
   "source": [
    "y = df['is_canceled'].values\n",
    "y"
   ]
  },
  {
   "cell_type": "markdown",
   "id": "neither-thumbnail",
   "metadata": {},
   "source": [
    "### Data split"
   ]
  },
  {
   "cell_type": "code",
   "execution_count": null,
   "id": "patent-blair",
   "metadata": {},
   "outputs": [],
   "source": [
    "\n",
    "from sklearn.model_selection import train_test_split\n",
    "X_train, X_test, y_train, y_test = train_test_split(X, y, test_size = 0.25, random_state = 0)"
   ]
  },
  {
   "cell_type": "code",
   "execution_count": null,
   "id": "pleased-fitness",
   "metadata": {},
   "outputs": [],
   "source": [
    "X_test"
   ]
  },
  {
   "cell_type": "markdown",
   "id": "crude-policy",
   "metadata": {},
   "source": [
    "### Feature scaling"
   ]
  },
  {
   "cell_type": "code",
   "execution_count": null,
   "id": "straight-humanity",
   "metadata": {},
   "outputs": [],
   "source": [
    "\n",
    "\n",
    "\n",
    "from sklearn.preprocessing import StandardScaler\n",
    "sc_X = StandardScaler()\n",
    "X_train = sc_X.fit_transform(X_train)\n",
    "X_test = sc_X.transform(X_test)\n",
    "X_test"
   ]
  },
  {
   "cell_type": "markdown",
   "id": "protective-gates",
   "metadata": {},
   "source": [
    "### Training the model"
   ]
  },
  {
   "cell_type": "code",
   "execution_count": null,
   "id": "fixed-major",
   "metadata": {},
   "outputs": [],
   "source": [
    "\n",
    "from sklearn.linear_model import LogisticRegression # import the  Logistic Regression class from its lib\n",
    "classifier = LogisticRegression (random_state=0)\n",
    "\n",
    "\n",
    "# from sklearn.svm import SVC \n",
    "# classifier = SVC (kernel = 'linear',  random_state = 0, )\n",
    "\n",
    "\n",
    "classifier.fit(X_train,y_train)"
   ]
  },
  {
   "cell_type": "markdown",
   "id": "spread-constitutional",
   "metadata": {},
   "source": [
    "### Predicting the test result"
   ]
  },
  {
   "cell_type": "code",
   "execution_count": null,
   "id": "commercial-stupid",
   "metadata": {},
   "outputs": [],
   "source": [
    "\n",
    "y_pred = classifier.predict(X_test)\n",
    "y_pred"
   ]
  },
  {
   "cell_type": "markdown",
   "id": "traditional-evaluation",
   "metadata": {},
   "source": [
    "### Model evaluation"
   ]
  },
  {
   "cell_type": "code",
   "execution_count": null,
   "id": "stunning-insight",
   "metadata": {},
   "outputs": [],
   "source": [
    "\n",
    "from sklearn.metrics import confusion_matrix, accuracy_score # this function compares the predicted results and the actual result, \n",
    "cm = confusion_matrix (y_test, y_pred) \n",
    "\n",
    "print(\"Prediction Accuracy:\",accuracy_score(y_test, y_pred), '\\n\\nConfusion Matrix:\\n',cm)"
   ]
  },
  {
   "cell_type": "code",
   "execution_count": null,
   "id": "successful-belief",
   "metadata": {},
   "outputs": [],
   "source": [
    "from sklearn.metrics import plot_confusion_matrix\n",
    "plot_confusion_matrix(classifier, X_test, y_test)  \n",
    "plt.show()"
   ]
  },
  {
   "cell_type": "markdown",
   "id": "sharing-panama",
   "metadata": {},
   "source": [
    "### New Predictions"
   ]
  },
  {
   "cell_type": "code",
   "execution_count": null,
   "id": "technological-mason",
   "metadata": {},
   "outputs": [],
   "source": [
    "lead_time = 215\n",
    "X_new = [[lead_time]]\n",
    "\n",
    "# applying the StandardScaler \n",
    "X_new = sc_X.transform(X_new)\n",
    "\n",
    "\n",
    "\n",
    "y_new = classifier.predict(X_new)\n",
    "y_new[0]\n",
    "\n",
    "if y_new[0] == 0:\n",
    "    print('This customer will NOT cancel his/her booking.\\nPredicted class = ',y_new[0])\n",
    "elif y_new[0] == 1:\n",
    "    print('This customer WILL cancel his/her booking.\\nPredicted class = ',y_new[0])\n",
    "else:\n",
    "    print('Something is not right.')"
   ]
  },
  {
   "cell_type": "markdown",
   "id": "baking-stopping",
   "metadata": {},
   "source": [
    "### Model Summary"
   ]
  },
  {
   "cell_type": "markdown",
   "id": "natural-sister",
   "metadata": {},
   "source": [
    "The higher the lead time the most probable that the customer will cancel their booking. \n",
    "\n",
    "This is very logical, because as time goes on after booking thier reservation, and before setting out for the journey, a lot of things can happen to make them cancel thier booking, example, finding a cheaper option or a more conducive room in another hotel or airbnb.\n",
    "\n",
    "To prevent this, most hotel managements have some insurancy policy — Lead Time Restrictions. \n",
    "Some require the customer to pay full or half of the fee immediately after booking. \n",
    "Some give thier customers a specified time length before the set arrival date that the customer can freely cancel their  reservation without cancelation charges.\n",
    "\n",
    "\n",
    "\n"
   ]
  },
  {
   "cell_type": "code",
   "execution_count": null,
   "id": "hairy-carnival",
   "metadata": {},
   "outputs": [],
   "source": []
  }
 ],
 "metadata": {
  "kernelspec": {
   "display_name": "Python 3",
   "language": "python",
   "name": "python3"
  },
  "language_info": {
   "codemirror_mode": {
    "name": "ipython",
    "version": 3
   },
   "file_extension": ".py",
   "mimetype": "text/x-python",
   "name": "python",
   "nbconvert_exporter": "python",
   "pygments_lexer": "ipython3",
   "version": "3.7.3"
  }
 },
 "nbformat": 4,
 "nbformat_minor": 5
}
